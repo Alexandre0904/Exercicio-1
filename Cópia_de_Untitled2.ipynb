{
  "nbformat": 4,
  "nbformat_minor": 0,
  "metadata": {
    "colab": {
      "provenance": [],
      "authorship_tag": "ABX9TyONQRWmDf2HdeakPbqrCSqn",
      "include_colab_link": true
    },
    "kernelspec": {
      "name": "python3",
      "display_name": "Python 3"
    },
    "language_info": {
      "name": "python"
    }
  },
  "cells": [
    {
      "cell_type": "markdown",
      "metadata": {
        "id": "view-in-github",
        "colab_type": "text"
      },
      "source": [
        "<a href=\"https://colab.research.google.com/github/Alexandre0904/Exercicio-1/blob/master/C%C3%B3pia_de_Untitled2.ipynb\" target=\"_parent\"><img src=\"https://colab.research.google.com/assets/colab-badge.svg\" alt=\"Open In Colab\"/></a>"
      ]
    },
    {
      "cell_type": "code",
      "execution_count": null,
      "metadata": {
        "colab": {
          "base_uri": "https://localhost:8080/"
        },
        "id": "HuAbCUqxGiCW",
        "outputId": "235b204e-e0d4-48ad-b2ea-d0fe491ec307"
      },
      "outputs": [
        {
          "output_type": "stream",
          "name": "stdout",
          "text": [
            "['Um Sonho de liberdade', 'O Poderoso Chefão', 'Batmam', 'O Poderoso Chefão II', '12 Homens e uma Sentença', 'A Lista de Schindler', 'O Senhor dos Anéis: O Retorno do Rei', 'Pulp Fiction = Tenpo de Violência', 'O Senhor dos Anéis: A Sociedade do Anél', 'Três Homens em Conflito']\n"
          ]
        }
      ],
      "source": [
        "filmes = ['Um Sonho de liberdade', 'O Poderoso Chefão', 'Batmam', 'O Poderoso Chefão II', '12 Homens e uma Sentença', 'A Lista de Schindler', 'O Senhor dos Anéis: O Retorno do Rei', 'Pulp Fiction = Tenpo de Violência', 'O Senhor dos Anéis: A Sociedade do Anél', 'Três Homens em Conflito' ]\n",
        "print(filmes)"
      ]
    },
    {
      "cell_type": "code",
      "source": [
        "filmes.insert(0, filmes.pop(1))\n",
        "print(filmes)"
      ],
      "metadata": {
        "colab": {
          "base_uri": "https://localhost:8080/"
        },
        "id": "BoDcwtcXHPe_",
        "outputId": "f879c944-84af-418c-84c6-78e3a053b1ea"
      },
      "execution_count": null,
      "outputs": [
        {
          "output_type": "stream",
          "name": "stdout",
          "text": [
            "['O Poderoso Chefão', 'Um Sonho de liberdade', 'Batmam', 'O Poderoso Chefão II', '12 Homens e uma Sentença', 'A Lista de Schindler', 'O Senhor dos Anéis: O Retorno do Rei', 'Pulp Fiction = Tenpo de Violência', 'O Senhor dos Anéis: A Sociedade do Anél', 'Três Homens em Conflito']\n"
          ]
        }
      ]
    },
    {
      "cell_type": "code",
      "source": [
        "filmes.extend(filmes[-3:])\n",
        "print(filmes)"
      ],
      "metadata": {
        "colab": {
          "base_uri": "https://localhost:8080/"
        },
        "id": "GwqfaMQpHXXS",
        "outputId": "4f42d401-07d5-4d49-ca34-001ba38c95f0"
      },
      "execution_count": null,
      "outputs": [
        {
          "output_type": "stream",
          "name": "stdout",
          "text": [
            "['O Poderoso Chefão', 'Um Sonho de liberdade', 'Batmam', 'O Poderoso Chefão II', '12 Homens e uma Sentença', 'A Lista de Schindler', 'O Senhor dos Anéis: O Retorno do Rei', 'Pulp Fiction = Tenpo de Violência', 'O Senhor dos Anéis: A Sociedade do Anél', 'Três Homens em Conflito', 'Pulp Fiction = Tenpo de Violência', 'O Senhor dos Anéis: A Sociedade do Anél', 'Três Homens em Conflito', 'Pulp Fiction = Tenpo de Violência', 'O Senhor dos Anéis: A Sociedade do Anél', 'Três Homens em Conflito']\n"
          ]
        }
      ]
    },
    {
      "cell_type": "code",
      "source": [
        " ranking = [\n",
        "{'rank': '1',\n",
        "    'filme':'um sonho de liberdade',\n",
        "    'ano': '1994',\n",
        " 'sinopse': 'Dois homesns presos se reúnem ao longo de vários anos encontrando consolo e eventual redenção através de atos de decência comum.'}\n",
        " ,\n",
        " {'rank': '2',\n",
        "    'filme':'O Poderoso Chefão',\n",
        "    'ano': '1972',\n",
        " 'sinopse': 'O patriarca idoso de uma dinastia do crime organizado transfere o controle de seu império clandestino para seu filho relutante.'}\n",
        " ,\n",
        " {'rank': '3',\n",
        "    'filme': 'Batmam',\n",
        "    'ano': '2008',\n",
        " 'sinopse': 'Agora com a ajuda do tenente Jim Gordon e do promotor público Harvey Dent, Batman tem tudo para banir o crime de Gotham City de uma vez por todas. Mas em breve, os três serão vitimas do Coringa, que pretende lançar Gotham em uma nanrquia.'}\n",
        " ,\n",
        " {'rank': '4',\n",
        "    'filme': 'O Poderoso Chefão II',\n",
        "    'ano': '1974',\n",
        "'sinopse': 'Em 1950, Michael Corleone, agora à frente da familia, tenta expandir o negócio do crime a Las Vegas, Los Angeles e Cuba. Paralelamente, é revelada a história de Vito Corleone, e de como sair da Sicilia e chegoru a Nova Iorque.'}\n",
        " ,\n",
        " {'rank': '5',\n",
        "    'filme': '12 Homens e uma Sentença',\n",
        "    'ano': '1957',\n",
        "'sinopse': 'O julgamento de um assassinato em Nova Iorque é frustrado por um único membro, cujo ceticismo força o júri a considerar cuidadosamente as evidências antes de dar o veredito.'}\n",
        " ,\n",
        " {'rank': '6',\n",
        "    'filme': 'A Lista de Schindler',\n",
        "    'ano': '1993',\n",
        "'sinopse': 'Na Polônia ocupada pelos alemães durante a Segunda Guerra Mundial, o industrial Oskar Schindler começa a se preocupar com seus trabalhadores judeus depois de testemunhar sua perseguição pelos nazistas.'}\n",
        " ,\n",
        " {'rank': '7',\n",
        "    'filme': 'O Senhor dos Anéis: O Retorno do Rei',\n",
        "    'ano': '2003',\n",
        "'sinopse': 'Gandalf e Aragom lideramm o Mundo dos Homens contra o exército de Sauron para desviar o olhar de Frodo e Sam quando eles se aproximam à Montanha da Perdição com o Anel.'}\n",
        " ,\n",
        " {'rank': '8',\n",
        "    'filme': 'Pulp Fiction - Tempo de Violência',\n",
        "    'ano': '1994',\n",
        "'sinopse': 'As vidas de dois assassinos da máfia, um boxeador, um gângster e sua esposa, e um par de bandidos se entrelaçam em quatro histórias de violência e redenção;'}\n",
        " ,\n",
        " {'rank': '9',\n",
        "   'filme': 'O Senhor dos Anéis: A Sociedade do Anel',\n",
        "   'ano': '2001',\n",
        "'sinopse': 'Um manso hobbit do Condado e oito companheiros partem em uma jornada para destruir o poderoso Um Anel e salvaar a Terra-média das Trevas.'}\n",
        " ,\n",
        " {'rank': '10',\n",
        "   'filme': 'Três Homens em Conflito',\n",
        "   'ano': '1966',\n",
        "'sinopse': 'Um impostor se junta com dois homens para encontrar fortuna num remoto cemitério.'}\n",
        "\n",
        " ]\n",
        "\n",
        "\n",
        "\n",
        "\n",
        "\n",
        "print(ranking)\n"
      ],
      "metadata": {
        "colab": {
          "base_uri": "https://localhost:8080/"
        },
        "id": "IX5WV856HmhH",
        "outputId": "ab326898-cc08-43d9-fe69-22738f13ee17"
      },
      "execution_count": null,
      "outputs": [
        {
          "output_type": "stream",
          "name": "stdout",
          "text": [
            "[{'rank': '1', 'filme': 'um sonho de liberdade', 'ano': '1994', 'sinopse': 'Dois homesns presos se reúnem ao longo de vários anos encontrando consolo e eventual redenção através de atos de decência comum.'}, {'rank': '2', 'filme': 'O Poderoso Chefão', 'ano': '1972', 'sinopse': 'O patriarca idoso de uma dinastia do crime organizado transfere o controle de seu império clandestino para seu filho relutante.'}, {'rank': '3', 'filme': 'Batmam', 'ano': '2008', 'sinopse': 'Agora com a ajuda do tenente Jim Gordon e do promotor público Harvey Dent, Batman tem tudo para banir o crime de Gotham City de uma vez por todas. Mas em breve, os três serão vitimas do Coringa, que pretende lançar Gotham em uma nanrquia.'}, {'rank': '4', 'filme': 'O Poderoso Chefão II', 'ano': '1974', 'sinopse': 'Em 1950, Michael Corleone, agora à frente da familia, tenta expandir o negócio do crime a Las Vegas, Los Angeles e Cuba. Paralelamente, é revelada a história de Vito Corleone, e de como sair da Sicilia e chegoru a Nova Iorque.'}, {'rank': '5', 'filme': '12 Homens e uma Sentença', 'ano': '1957', 'sinopse': 'O julgamento de um assassinato em Nova Iorque é frustrado por um único membro, cujo ceticismo força o júri a considerar cuidadosamente as evidências antes de dar o veredito.'}, {'rank': '6', 'filme': 'A Lista de Schindler', 'ano': '1993', 'sinopse': 'Na Polônia ocupada pelos alemães durante a Segunda Guerra Mundial, o industrial Oskar Schindler começa a se preocupar com seus trabalhadores judeus depois de testemunhar sua perseguição pelos nazistas.'}, {'rank': '7', 'filme': 'O Senhor dos Anéis: O Retorno do Rei', 'ano': '2003', 'sinopse': 'Gandalf e Aragom lideramm o Mundo dos Homens contra o exército de Sauron para desviar o olhar de Frodo e Sam quando eles se aproximam à Montanha da Perdição com o Anel.'}, {'rank': '8', 'filme': 'Pulp Fiction - Tempo de Violência', 'ano': '1994', 'sinopse': 'As vidas de dois assassinos da máfia, um boxeador, um gângster e sua esposa, e um par de bandidos se entrelaçam em quatro histórias de violência e redenção;'}, {'rank': '9', 'filme': 'O Senhor dos Anéis: A Sociedade do Anel', 'ano': '2001', 'sinopse': 'Um manso hobbit do Condado e oito companheiros partem em uma jornada para destruir o poderoso Um Anel e salvaar a Terra-média das Trevas.'}, {'rank': '10', 'filme': 'Três Homens em Conflito', 'ano': '1966', 'sinopse': 'Um impostor se junta com dois homens para encontrar fortuna num remoto cemitério.'}]\n"
          ]
        }
      ]
    },
    {
      "cell_type": "code",
      "source": [
        "# Acessar o título do filme com o ranking '1'\n",
        "filme = ranking[0]['filme']\n",
        "# Acessar a sinopse do filme com o ranking '1'\n",
        "sinopse = ranking[0]['sinopse']\n",
        "\n",
        "print(\"filme:\", titulo)\n",
        "print(\"Sinopse:\", sinopse)"
      ],
      "metadata": {
        "colab": {
          "base_uri": "https://localhost:8080/"
        },
        "id": "booFKzFIHrI3",
        "outputId": "b94d5767-69e7-472d-8c16-933df8305a88"
      },
      "execution_count": null,
      "outputs": [
        {
          "output_type": "stream",
          "name": "stdout",
          "text": [
            "filme: Um Sonho de Liberdade\n",
            "Sinopse: Dois homesns presos se reúnem ao longo de vários anos encontrando consolo e eventual redenção através de atos de decência comum.\n"
          ]
        }
      ]
    },
    {
      "cell_type": "code",
      "source": [
        "ranking[3]['filme']"
      ],
      "metadata": {
        "colab": {
          "base_uri": "https://localhost:8080/",
          "height": 35
        },
        "id": "q3GWgObYjrAW",
        "outputId": "e6741412-c0e5-4e8b-a36b-dba4a8e3f9d4"
      },
      "execution_count": null,
      "outputs": [
        {
          "output_type": "execute_result",
          "data": {
            "text/plain": [
              "'O Poderoso Chefão II'"
            ],
            "application/vnd.google.colaboratory.intrinsic+json": {
              "type": "string"
            }
          },
          "metadata": {},
          "execution_count": 70
        }
      ]
    }
  ]
}