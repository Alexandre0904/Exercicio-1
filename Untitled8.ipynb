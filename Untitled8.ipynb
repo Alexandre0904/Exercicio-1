{
  "nbformat": 4,
  "nbformat_minor": 0,
  "metadata": {
    "colab": {
      "provenance": [],
      "authorship_tag": "ABX9TyOOV5Gu362TPDbmtp0+yEmN",
      "include_colab_link": true
    },
    "kernelspec": {
      "name": "python3",
      "display_name": "Python 3"
    },
    "language_info": {
      "name": "python"
    }
  },
  "cells": [
    {
      "cell_type": "markdown",
      "metadata": {
        "id": "view-in-github",
        "colab_type": "text"
      },
      "source": [
        "<a href=\"https://colab.research.google.com/github/Alexandre0904/Exercicio-1/blob/master/Untitled8.ipynb\" target=\"_parent\"><img src=\"https://colab.research.google.com/assets/colab-badge.svg\" alt=\"Open In Colab\"/></a>"
      ]
    },
    {
      "cell_type": "code",
      "execution_count": 1,
      "metadata": {
        "colab": {
          "base_uri": "https://localhost:8080/"
        },
        "id": "EDBz76Qd_3xY",
        "outputId": "fb844911-f69b-4094-faac-4764a804cc4a"
      },
      "outputs": [
        {
          "output_type": "stream",
          "name": "stdout",
          "text": [
            " Para o documento 123, o valor do escore de credito e 750.\n",
            " Para o documento 456, o valor do escore de credito e 812.\n",
            " Para o documento 789, o valor do escore de credito e 980.\n"
          ]
        }
      ],
      "source": [
        "credito = {'123': 750, '456': 812, '789': 980}\n",
        "\n",
        "for chave, valor in credito.items():\n",
        "  print(f' Para o documento {chave}, o valor do escore de credito e {valor}.')"
      ]
    },
    {
      "cell_type": "code",
      "source": [
        "def pi() -> float:\n",
        "  return 3.14159265359\n",
        "\n",
        "pi = pi()\n",
        "print(pi)"
      ],
      "metadata": {
        "colab": {
          "base_uri": "https://localhost:8080/"
        },
        "id": "0c07Xh_NAEI3",
        "outputId": "e8c1f83b-6fe9-4f1b-eda8-444c154dd4b4"
      },
      "execution_count": 2,
      "outputs": [
        {
          "output_type": "stream",
          "name": "stdout",
          "text": [
            "3.14159265359\n"
          ]
        }
      ]
    },
    {
      "cell_type": "code",
      "source": [
        "emails = ['andre.perez@gmail.com', 'andre.perez@live.com', 'andre.perez@yahoo.com']\n",
        "provedor_da_google = lambda email: 'gmail in email'\n",
        "\n",
        "emails_google = filter(provedor_da_google, emails)\n",
        "print(list(emails_google))"
      ],
      "metadata": {
        "colab": {
          "base_uri": "https://localhost:8080/"
        },
        "id": "80ultq5eALWi",
        "outputId": "330ec91d-16b3-4d44-9db0-b7068db0325c"
      },
      "execution_count": 3,
      "outputs": [
        {
          "output_type": "stream",
          "name": "stdout",
          "text": [
            "['andre.perez@gmail.com', 'andre.perez@live.com', 'andre.perez@yahoo.com']\n"
          ]
        }
      ]
    },
    {
      "cell_type": "code",
      "source": [
        "class Pessoa(object):\n",
        "\n",
        "  def __init__(self, nome: str, idade: int, documento: str):\n",
        "    self.nome = nome\n",
        "    self.idade = idade\n",
        "    self.documento = documento\n",
        "\n",
        "andre = Pessoa(nome=\"Andre\", idade=30, documento=\"123\")"
      ],
      "metadata": {
        "id": "g79npPLGAOyq"
      },
      "execution_count": 4,
      "outputs": []
    },
    {
      "cell_type": "code",
      "source": [
        "%%writefile credito.csv\n",
        "id_vendedor,valor_emprestimos,quantidade_emprestimos,data\n",
        "104271,448.0,1,20161208\n",
        "21476,826.7,3,20161208\n",
        "87440,313.6,3,20161208\n",
        "15980,808.0,6,20161208\n",
        "215906,2212.0,5,20161208\n",
        "33696,2771.3,2,20161208\n",
        "33893,2240.0,3,20161208\n",
        "214946,\"4151.0\",18,20161208\n",
        "123974,2021.95,2,20161208\n",
        "225870,4039.0,2,20161208"
      ],
      "metadata": {
        "colab": {
          "base_uri": "https://localhost:8080/"
        },
        "id": "tB4E7UEUAfpt",
        "outputId": "ec88e7b4-7e52-4c50-a257-fcfd877a7a80"
      },
      "execution_count": 5,
      "outputs": [
        {
          "output_type": "stream",
          "name": "stdout",
          "text": [
            "Writing credito.csv\n"
          ]
        }
      ]
    },
    {
      "cell_type": "code",
      "source": [
        "def valor_total_emprestimo(valor: float, quantidade: int) -> float:\n",
        "    return valor * quantidade\n",
        "\n",
        "emprestimos = []\n",
        "\n",
        "try:\n",
        "    with open(file='./credito.csv', mode='r', encoding='utf8') as fp:\n",
        "        fp.readline() # cabeçalho\n",
        "        linha = fp.readline()\n",
        "        while linha:\n",
        "            try:\n",
        "                linha_emprestimo = {}\n",
        "                linha_elementos = linha.strip().split(sep=',')\n",
        "                linha_emprestimo['id_vendedor'] = linha_elementos[0]\n",
        "                linha_emprestimo['valor_emprestimos'] = float(linha_elementos[1].replace('\"', ''))\n",
        "                linha_emprestimo['quantidade_emprestimos'] = int(linha_elementos[2])\n",
        "                linha_emprestimo['data'] = linha_elementos[3]\n",
        "                emprestimos.append(linha_emprestimo)\n",
        "            except (ValueError, IndexError) as e:\n",
        "                print(f\"Erro ao processar a linha: {e}. Linha: {linha}\")\n",
        "                # Você pode optar por lidar com esse erro de alguma forma, como ignorá-lo ou registrar\n",
        "                # a linha que causou o erro para posterior análise.\n",
        "            linha = fp.readline()\n",
        "except FileNotFoundError:\n",
        "  print(\"Arquivo não encontrado.\")\n",
        "except Exception as e:\n",
        "    print(f\"Ocorreu um erro inesperado: {e}\")\n",
        "\n",
        "emprestimos_total = []\n",
        "for emprestimo in emprestimos:\n",
        "    valor_total = valor_total_emprestimo(valor=emprestimo['valor_emprestimos'], quantidade=emprestimo['quantidade_emprestimos'])\n",
        "    emprestimos_total.append({emprestimo['id_vendedor']: valor_total})\n",
        "\n",
        "for emprestimo_total in emprestimos_total:\n",
        "    print(emprestimo_total)"
      ],
      "metadata": {
        "colab": {
          "base_uri": "https://localhost:8080/"
        },
        "id": "FbCe-qA5AwiY",
        "outputId": "a5053d9e-79ff-4526-b04b-4b235102abf6"
      },
      "execution_count": 7,
      "outputs": [
        {
          "output_type": "stream",
          "name": "stdout",
          "text": [
            "{'104271': 448.0}\n",
            "{'21476': 2480.1000000000004}\n",
            "{'87440': 940.8000000000001}\n",
            "{'15980': 4848.0}\n",
            "{'215906': 11060.0}\n",
            "{'33696': 5542.6}\n",
            "{'33893': 6720.0}\n",
            "{'214946': 74718.0}\n",
            "{'123974': 4043.9}\n",
            "{'225870': 8078.0}\n"
          ]
        }
      ]
    }
  ]
}