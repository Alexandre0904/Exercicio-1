{
  "nbformat": 4,
  "nbformat_minor": 0,
  "metadata": {
    "colab": {
      "provenance": [],
      "authorship_tag": "ABX9TyM2JZ1pawdYchQjaFK65dWp",
      "include_colab_link": true
    },
    "kernelspec": {
      "name": "python3",
      "display_name": "Python 3"
    },
    "language_info": {
      "name": "python"
    }
  },
  "cells": [
    {
      "cell_type": "markdown",
      "metadata": {
        "id": "view-in-github",
        "colab_type": "text"
      },
      "source": [
        "<a href=\"https://colab.research.google.com/github/Alexandre0904/Exercicio-1/blob/master/Untitled6.ipynb\" target=\"_parent\"><img src=\"https://colab.research.google.com/assets/colab-badge.svg\" alt=\"Open In Colab\"/></a>"
      ]
    },
    {
      "cell_type": "code",
      "source": [
        "%%writefile carros.csv\n",
        "id,valor_venda,valor_manutencao,portas,pessoas,porta_malas\n",
        " 1,vhigh,med,2,2,small\n",
        "2,med,vhigh,2,2,small\n",
        "3,low,vhigh,2,2,small\n",
        "4,low,high,2,2,small\n",
        "5,low,high,2,2,small\n",
        "6,low,high,4,4,big\n",
        "7,low,high,4,4,big\n",
        "8,low,med,2,2,small\n",
        "9,low,med,2,2,small\n",
        "10,low,med,2,2,small\n",
        "11,low,med,4,4,big\n",
        "12,low,low,2,2,small"
      ],
      "metadata": {
        "colab": {
          "base_uri": "https://localhost:8080/"
        },
        "id": "yaw7AV94CafK",
        "outputId": "03eef082-363b-45bc-fe35-e5825be573ce"
      },
      "execution_count": 214,
      "outputs": [
        {
          "output_type": "stream",
          "name": "stdout",
          "text": [
            "Overwriting carros.csv\n"
          ]
        }
      ]
    },
    {
      "cell_type": "code",
      "source": [
        "%%writefile musica.txt\n",
        "Roda Viva\n",
        "Chico Buarque\n",
        "\n",
        "Tem dias que a gente se sente\n",
        " Como quem partiu ou morreu\n",
        "A gente estancou de repente\n",
        "Ou foi o mundo então que cresceu\n",
        "A gente quer ter voz ativa\n",
        "No nosso destino mandar\n",
        "Mas eis que chega a roda viva\n",
        " E carrega o destino pra lá\n",
        "\n",
        "Roda mundo, roda-gigante\n",
        "Roda moinho, roda pião\n",
        "\n",
        "O tempo rodou num instante\n",
        "Nas voltas do meu coração\n",
        "A gente vai contra a corrente\n",
        "Até não poder resistir\n",
        "Na volta do barco é que sente\n",
        " O quanto deixou de cumprir\n",
        "Faz tempo que a gente cultiva\n",
        "A mais linda roseira que há\n",
        "Mas eis que chega a roda viva\n",
        " E carrega a roseira pra lá\n",
        "\n",
        "Roda mundo, roda-gigante\n",
        "Roda moinho, roda pião"
      ],
      "metadata": {
        "colab": {
          "base_uri": "https://localhost:8080/"
        },
        "id": "06Xh61W-lwe7",
        "outputId": "9ceaff2a-7264-4398-8553-6abb3f59fc13"
      },
      "execution_count": 215,
      "outputs": [
        {
          "output_type": "stream",
          "name": "stdout",
          "text": [
            "Overwriting musica.txt\n"
          ]
        }
      ]
    },
    {
      "cell_type": "code",
      "source": [
        "class ArquivoTexto(object):\n",
        "    def __init__(self, arquivo: str):\n",
        "        self.arquivo = arquivo\n",
        "        self.conteudo = self.ler_conteudo()\n",
        "\n",
        "    def ler_conteudo(self):\n",
        "        with open(self.arquivo, 'r') as file:\n",
        "            return file.readlines()\n",
        "\n",
        "    def extrair_linha(self, numero_linha: int):\n",
        "        if 1 <= numero_linha <= len(self.conteudo):\n",
        "            return self.conteudo[numero_linha - 1]\n",
        "        else:\n",
        "            return \"Número de linha inválido\""
      ],
      "metadata": {
        "id": "QjETd74ZEJvq"
      },
      "execution_count": 216,
      "outputs": []
    },
    {
      "cell_type": "code",
      "source": [
        "arquivo_texto = ArquivoTexto(arquivo='musica.txt')\n",
        "\n",
        "numero_linha = 1\n",
        "print(arquivo_texto.extrair_linha(numero_linha=numero_linha))\n",
        "\n",
        "\n",
        "numero_linha = 10\n",
        "print(arquivo_texto.extrair_linha(numero_linha=numero_linha))\n"
      ],
      "metadata": {
        "colab": {
          "base_uri": "https://localhost:8080/"
        },
        "id": "Ax_p14gnEL4W",
        "outputId": "75693fb2-503c-429c-93de-b2a1f1ee984e"
      },
      "execution_count": 217,
      "outputs": [
        {
          "output_type": "stream",
          "name": "stdout",
          "text": [
            "Roda Viva\n",
            "\n",
            "Mas eis que chega a roda viva\n",
            "\n"
          ]
        }
      ]
    },
    {
      "cell_type": "code",
      "source": [
        "class ArquivoTexto(object):\n",
        "    def __init__(self, arquivo: str):\n",
        "        self.arquivo = arquivo\n",
        "        with open(arquivo, 'r') as file:\n",
        "            self.conteudo = file.readlines()\n",
        "\n",
        "    def extrair_linha(self, numero_linha: int):\n",
        "        if 1 <= numero_linha <= len(self.conteudo):\n",
        "            return self.conteudo[numero_linha - 1]\n",
        "        else:\n",
        "            return \"Número de linha inválido\"\n",
        "class ArquivoCSV(ArquivoTexto):\n",
        "    def __init__(self, arquivo: str):\n",
        "        super().__init__(arquivo)\n",
        "        self.colunas = self.extrair_colunas()\n",
        "\n",
        "    def extrair_colunas(self):\n",
        "        if self.conteudo:\n",
        "            return self.conteudo[0].strip().split(',')\n",
        "        else:\n",
        "            return []\n",
        "\n",
        "    def extrair_coluna_da_linha(self, numero_linha: int, numero_coluna: int):\n",
        "        if not self.colunas:\n",
        "            return \"Nenhuma coluna encontrada\"\n",
        "        elif 1 <= numero_linha <= len(self.conteudo):\n",
        "            line_data = self.conteudo[numero_linha - 1].strip().split(',')\n",
        "            if 0 <= numero_coluna < len(line_data):\n",
        "                return line_data[numero_coluna]\n",
        "            else:\n",
        "                return \"Índice de coluna inválido\"\n",
        "        else:\n",
        "            return \"Número de linha inválido\"\n",
        "\n",
        "    def __str__(self):\n",
        "        colunas_str = \",\\n\".join([f\"    '{coluna}'\" for coluna in self.colunas])\n",
        "        return f\"# [\\n{colunas_str}\\n# ]\""
      ],
      "metadata": {
        "id": "QBFiHFaAV1b3"
      },
      "execution_count": 249,
      "outputs": []
    },
    {
      "cell_type": "code",
      "source": [
        "arquivo_csv = ArquivoCSV(arquivo='carros.csv')\n",
        "\n",
        "numero_linha = 1\n",
        "print(arquivo_csv.extrair_linha(numero_linha=numero_linha))\n",
        "# id,valor_venda,valor_manutencao,portas,pessoas,porta_malas\n",
        "\n",
        "print(arquivo_csv)\n",
        "# [\n",
        "#    'id',\n",
        "#    'valor_venda',\n",
        "#    'valor_manutencao',\n",
        "#    'portas',\n",
        "#    'pessoas',\n",
        "#    'porta_malas'\n",
        "# ]\n",
        "\n",
        "numero_linha = 10\n",
        "print(arquivo_csv.extrair_linha(numero_linha=numero_linha))\n",
        "# 9,low,med,2,2,small\n",
        "\n",
        "numero_linha = 10\n",
        "numero_coluna = 1\n",
        "print(\n",
        "    arquivo_csv.extrair_coluna_da_linha(\n",
        "        numero_linha=numero_linha,\n",
        "        numero_coluna=numero_coluna\n",
        "    )\n",
        ")\n",
        "# low"
      ],
      "metadata": {
        "colab": {
          "base_uri": "https://localhost:8080/"
        },
        "id": "4FCvbt8ylZzW",
        "outputId": "b384e91f-3db5-4f7a-b455-2a5a3f59fd50"
      },
      "execution_count": 250,
      "outputs": [
        {
          "output_type": "stream",
          "name": "stdout",
          "text": [
            "id,valor_venda,valor_manutencao,portas,pessoas,porta_malas\n",
            "\n",
            "# [\n",
            "    'id',\n",
            "    'valor_venda',\n",
            "    'valor_manutencao',\n",
            "    'portas',\n",
            "    'pessoas',\n",
            "    'porta_malas'\n",
            "# ]\n",
            "9,low,med,2,2,small \n",
            "\n",
            "low\n"
          ]
        }
      ]
    }
  ]
}